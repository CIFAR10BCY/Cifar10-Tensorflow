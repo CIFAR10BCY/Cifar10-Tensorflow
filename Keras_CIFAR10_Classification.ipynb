{
  "nbformat": 4,
  "nbformat_minor": 0,
  "metadata": {
    "kernelspec": {
      "name": "python3",
      "display_name": "Python 3"
    },
    "language_info": {
      "codemirror_mode": {
        "name": "ipython",
        "version": 3
      },
      "file_extension": ".py",
      "mimetype": "text/x-python",
      "name": "python",
      "nbconvert_exporter": "python",
      "pygments_lexer": "ipython3",
      "version": "3.6.9"
    },
    "colab": {
      "name": "Keras - CIFAR10 Classification.ipynb",
      "provenance": [],
      "collapsed_sections": [],
      "toc_visible": true,
      "include_colab_link": true
    },
    "accelerator": "GPU"
  },
  "cells": [
    {
      "cell_type": "markdown",
      "metadata": {
        "id": "view-in-github",
        "colab_type": "text"
      },
      "source": [
        "<a href=\"https://colab.research.google.com/github/CIFAR10BCY/Cifar10-Tensorflow/blob/master/Keras_CIFAR10_Classification.ipynb\" target=\"_parent\"><img src=\"https://colab.research.google.com/assets/colab-badge.svg\" alt=\"Open In Colab\"/></a>"
      ]
    },
    {
      "cell_type": "markdown",
      "metadata": {
        "id": "j6JtnPHaINyk",
        "colab_type": "text"
      },
      "source": [
        "# IMPORTS"
      ]
    },
    {
      "cell_type": "code",
      "metadata": {
        "id": "c5_DxO2SINyl",
        "colab_type": "code",
        "outputId": "c41629fa-86cb-44b9-ccb3-6ed31a9f5e91",
        "colab": {
          "base_uri": "https://localhost:8080/",
          "height": 102
        }
      },
      "source": [
        "# Install TensorFlow\n",
        "try:\n",
        "  # %tensorflow_version only exists in Colab.\n",
        "  %tensorflow_version 2.x\n",
        "except Exception:\n",
        "  pass\n",
        "\n",
        "import tensorflow as tf\n",
        "tf.__version__\n",
        "!pip install pyyaml h5py  # Required to save models in HDF5 format\n",
        "#https://colab.research.google.com/github/tensorflow/docs/blob/master/site/en/tutorials/keras/save_and_load.ipynb#scrollTo=R7W5plyZ-u9X"
      ],
      "execution_count": 1,
      "outputs": [
        {
          "output_type": "stream",
          "text": [
            "TensorFlow 2.x selected.\n",
            "Requirement already satisfied: pyyaml in /usr/local/lib/python3.6/dist-packages (3.13)\n",
            "Requirement already satisfied: h5py in /tensorflow-2.1.0/python3.6 (2.10.0)\n",
            "Requirement already satisfied: six in /tensorflow-2.1.0/python3.6 (from h5py) (1.13.0)\n",
            "Requirement already satisfied: numpy>=1.7 in /tensorflow-2.1.0/python3.6 (from h5py) (1.17.4)\n"
          ],
          "name": "stdout"
        }
      ]
    },
    {
      "cell_type": "code",
      "metadata": {
        "id": "9t4hyGP7INyn",
        "colab_type": "code",
        "colab": {}
      },
      "source": [
        "import os\n",
        "import numpy as np \n",
        "import tensorflow as tf\n",
        "\n",
        "import datetime, os\n",
        "from tensorflow.keras.datasets import cifar10\n",
        "from tensorflow.keras.models import Sequential\n",
        "from tensorflow.keras.layers import Dense, Activation, Dropout,  Flatten\n",
        "from tensorflow.keras.layers import Conv2D, MaxPooling2D\n",
        "from tensorflow.keras import datasets, layers, models\n",
        "\n",
        "from tensorflow.keras import regularizers, optimizers\n",
        "\n",
        "from IPython.display import display\n",
        "from tensorflow.keras.preprocessing.image import array_to_img \n",
        "#Tensorboard\n",
        "from tensorflow.keras.callbacks import TensorBoard\n",
        "from time import strftime\n",
        "\n",
        "\n",
        "import matplotlib.pyplot as plt\n",
        "%matplotlib inline\n"
      ],
      "execution_count": 0,
      "outputs": []
    },
    {
      "cell_type": "markdown",
      "metadata": {
        "id": "ON1VHr_4INyp",
        "colab_type": "text"
      },
      "source": [
        "# Constants"
      ]
    },
    {
      "cell_type": "code",
      "metadata": {
        "id": "FZ7AM93LINyp",
        "colab_type": "code",
        "colab": {}
      },
      "source": [
        "LOG_DIR = 'tensorboard_cifar_logs\\\\'\n",
        "\n",
        "\n",
        "label_names = ['Plane', 'Car', 'Bird', 'Cat', 'Deer', 'Dog', 'Frog',\n",
        "               'Horse', 'Ship', 'Truck']"
      ],
      "execution_count": 0,
      "outputs": []
    },
    {
      "cell_type": "markdown",
      "metadata": {
        "id": "4HkezL6xINyr",
        "colab_type": "text"
      },
      "source": [
        "# Get the Data"
      ]
    },
    {
      "cell_type": "code",
      "metadata": {
        "id": "9E7Xb__8INyr",
        "colab_type": "code",
        "outputId": "ac335b7e-9c43-4a3c-958d-6f29380a6763",
        "colab": {
          "base_uri": "https://localhost:8080/",
          "height": 51
        }
      },
      "source": [
        "(x_train_all, y_train_all), (x_test, y_test) = cifar10.load_data()"
      ],
      "execution_count": 7,
      "outputs": [
        {
          "output_type": "stream",
          "text": [
            "Downloading data from https://www.cs.toronto.edu/~kriz/cifar-10-python.tar.gz\n",
            "170500096/170498071 [==============================] - 4s 0us/step\n"
          ],
          "name": "stdout"
        }
      ]
    },
    {
      "cell_type": "markdown",
      "metadata": {
        "id": "TekENZrIINyt",
        "colab_type": "text"
      },
      "source": [
        "# Explore the Data"
      ]
    },
    {
      "cell_type": "code",
      "metadata": {
        "id": "4XTZ52fPINyt",
        "colab_type": "code",
        "outputId": "672226ed-fa54-4910-bf36-ec9aa43c297d",
        "colab": {
          "base_uri": "https://localhost:8080/",
          "height": 34
        }
      },
      "source": [
        "x_train_all.shape"
      ],
      "execution_count": 0,
      "outputs": [
        {
          "output_type": "execute_result",
          "data": {
            "text/plain": [
              "(50000, 32, 32, 3)"
            ]
          },
          "metadata": {
            "tags": []
          },
          "execution_count": 5
        }
      ]
    },
    {
      "cell_type": "code",
      "metadata": {
        "scrolled": true,
        "id": "8B0SoiWfINyv",
        "colab_type": "code",
        "outputId": "9b07c76a-248b-4cdc-c25c-13cf9c4011fd",
        "colab": {
          "base_uri": "https://localhost:8080/",
          "height": 34
        }
      },
      "source": [
        "nr_images, x, y, c = x_train_all.shape\n",
        "print(f\"images = {nr_images} | width(genişlik) = {x}p | height(yükseklik) = {y}p | channels(rgb) = {c}  \")"
      ],
      "execution_count": 0,
      "outputs": [
        {
          "output_type": "stream",
          "text": [
            "images = 50000 | width(genişlik) = 32p | height(yükseklik) = 32p | channels(rgb) = 3  \n"
          ],
          "name": "stdout"
        }
      ]
    },
    {
      "cell_type": "code",
      "metadata": {
        "id": "vgvMm7yJINyw",
        "colab_type": "code",
        "outputId": "336c836c-4fda-48a2-c50c-fa6e97b69214",
        "colab": {
          "base_uri": "https://localhost:8080/",
          "height": 34
        }
      },
      "source": [
        "x_test.shape"
      ],
      "execution_count": 0,
      "outputs": [
        {
          "output_type": "execute_result",
          "data": {
            "text/plain": [
              "(10000, 32, 32, 3)"
            ]
          },
          "metadata": {
            "tags": []
          },
          "execution_count": 7
        }
      ]
    },
    {
      "cell_type": "code",
      "metadata": {
        "id": "pwcWeMEKINyy",
        "colab_type": "code",
        "outputId": "9606ac94-d12e-4711-8162-0fabd35c4507",
        "colab": {
          "base_uri": "https://localhost:8080/",
          "height": 34
        }
      },
      "source": [
        "y_train_all.shape"
      ],
      "execution_count": 0,
      "outputs": [
        {
          "output_type": "execute_result",
          "data": {
            "text/plain": [
              "(50000, 1)"
            ]
          },
          "metadata": {
            "tags": []
          },
          "execution_count": 8
        }
      ]
    },
    {
      "cell_type": "code",
      "metadata": {
        "id": "OjBu_s1EINyz",
        "colab_type": "code",
        "outputId": "4de295ff-7c07-4dd7-f83e-58d490352fec",
        "colab": {
          "base_uri": "https://localhost:8080/",
          "height": 34
        }
      },
      "source": [
        "y_test.shape"
      ],
      "execution_count": 0,
      "outputs": [
        {
          "output_type": "execute_result",
          "data": {
            "text/plain": [
              "(10000, 1)"
            ]
          },
          "metadata": {
            "tags": []
          },
          "execution_count": 9
        }
      ]
    },
    {
      "cell_type": "markdown",
      "metadata": {
        "id": "sxQusawRINy1",
        "colab_type": "text"
      },
      "source": [
        "# IPython Display"
      ]
    },
    {
      "cell_type": "code",
      "metadata": {
        "id": "e-p4ZvfCINy1",
        "colab_type": "code",
        "outputId": "e4427b3c-fe44-4049-b4b2-e995dc127b8c",
        "colab": {
          "base_uri": "https://localhost:8080/",
          "height": 49
        }
      },
      "source": [
        "pic = array_to_img(x_train_all[7])\n",
        "display(pic)"
      ],
      "execution_count": 0,
      "outputs": [
        {
          "output_type": "display_data",
          "data": {
            "image/png": "[encoded data removed]",
            "text/plain": [
              "<PIL.Image.Image image mode=RGB size=32x32 at 0x7F3C16C52518>"
            ]
          },
          "metadata": {
            "tags": []
          }
        }
      ]
    },
    {
      "cell_type": "code",
      "metadata": {
        "scrolled": true,
        "id": "HIiEHIa_INy3",
        "colab_type": "code",
        "outputId": "064ad42d-5f3f-4e39-afa8-b5307c674c82",
        "colab": {
          "base_uri": "https://localhost:8080/",
          "height": 34
        }
      },
      "source": [
        "y_train_all[7][0]"
      ],
      "execution_count": 0,
      "outputs": [
        {
          "output_type": "execute_result",
          "data": {
            "text/plain": [
              "7"
            ]
          },
          "metadata": {
            "tags": []
          },
          "execution_count": 11
        }
      ]
    },
    {
      "cell_type": "code",
      "metadata": {
        "id": "7CjTnYp4INy4",
        "colab_type": "code",
        "outputId": "c5e2d065-ee09-44a6-d9b7-de6477ebdd6c",
        "colab": {
          "base_uri": "https://localhost:8080/",
          "height": 34
        }
      },
      "source": [
        "label_names[y_train_all[7][0]]"
      ],
      "execution_count": 0,
      "outputs": [
        {
          "output_type": "execute_result",
          "data": {
            "text/plain": [
              "'Horse'"
            ]
          },
          "metadata": {
            "tags": []
          },
          "execution_count": 12
        }
      ]
    },
    {
      "cell_type": "markdown",
      "metadata": {
        "id": "9vNWNzuCINy6",
        "colab_type": "text"
      },
      "source": [
        "# Matplotlib Display"
      ]
    },
    {
      "cell_type": "code",
      "metadata": {
        "id": "WLPD2B8dINy6",
        "colab_type": "code",
        "outputId": "1416b14f-9536-415f-b991-2cac1ea5648b",
        "colab": {
          "base_uri": "https://localhost:8080/",
          "height": 121
        }
      },
      "source": [
        "plt.figure(figsize=(15,5))\n",
        "\n",
        "for i in range(10):\n",
        "    plt.subplot(1, 10, i+1) #rows , columns , i=0(i+1)\n",
        "    plt.yticks([])\n",
        "    plt.xticks([])\n",
        "    plt.xlabel(label_names[y_train_all[i][0]], fontsize=15)\n",
        "    plt.imshow(x_train_all[i])"
      ],
      "execution_count": 0,
      "outputs": [
        {
          "output_type": "display_data",
          "data": {
            "image/png": "[encoded data removed]",
            "text/plain": [
              "<Figure size 1080x360 with 10 Axes>"
            ]
          },
          "metadata": {
            "tags": []
          }
        }
      ]
    },
    {
      "cell_type": "markdown",
      "metadata": {
        "id": "tgzKEm97INy8",
        "colab_type": "text"
      },
      "source": [
        "# Preprocess Data"
      ]
    },
    {
      "cell_type": "code",
      "metadata": {
        "id": "r5b03qJIINy8",
        "colab_type": "code",
        "outputId": "9e31faa2-f151-4d32-c954-1e1f7be4a8cc",
        "colab": {
          "base_uri": "https://localhost:8080/",
          "height": 51
        }
      },
      "source": [
        "#uint8 : positive number\n",
        "print(type(x_train_all[0][0][0][0]))\n",
        "\n",
        "#RGB değerleri 0 ve 1 arasında olur.\n",
        "x_train_all, x_test = x_train_all / 255.0 , x_test /255.0 \n",
        "print(type(x_train_all[0][0][0][0]))"
      ],
      "execution_count": 8,
      "outputs": [
        {
          "output_type": "stream",
          "text": [
            "<class 'numpy.uint8'>\n",
            "<class 'numpy.float64'>\n"
          ],
          "name": "stdout"
        }
      ]
    },
    {
      "cell_type": "markdown",
      "metadata": {
        "id": "UXOHEY2MINzA",
        "colab_type": "text"
      },
      "source": [
        "### Create Validation Dataset"
      ]
    },
    {
      "cell_type": "code",
      "metadata": {
        "id": "_APpzYuoINzB",
        "colab_type": "code",
        "outputId": "dc0c0e95-6239-4207-c1e1-94bed722cc96",
        "colab": {
          "base_uri": "https://localhost:8080/",
          "height": 34
        }
      },
      "source": [
        "x_val = x_train_all[:10000] #Validation size\n",
        "y_val = y_train_all[:10000]\n",
        "y_val.shape"
      ],
      "execution_count": 9,
      "outputs": [
        {
          "output_type": "execute_result",
          "data": {
            "text/plain": [
              "(10000, 1)"
            ]
          },
          "metadata": {
            "tags": []
          },
          "execution_count": 9
        }
      ]
    },
    {
      "cell_type": "code",
      "metadata": {
        "id": "EDktlI2vINzC",
        "colab_type": "code",
        "outputId": "dee27837-bf66-4043-8f97-9c9577737c25",
        "colab": {
          "base_uri": "https://localhost:8080/",
          "height": 34
        }
      },
      "source": [
        "x_train = x_train_all[10000:]\n",
        "y_train = y_train_all[10000:]\n",
        "print(f\"{x_train.shape} train data | {x_val.shape} validation data | {x_test.shape} test data\")"
      ],
      "execution_count": 0,
      "outputs": [
        {
          "output_type": "stream",
          "text": [
            "(40000, 32, 32, 3) train data | (10000, 32, 32, 3) validation data | (10000, 32, 32, 3) test data\n"
          ],
          "name": "stdout"
        }
      ]
    },
    {
      "cell_type": "markdown",
      "metadata": {
        "id": "yvQ2w7fQINzE",
        "colab_type": "text"
      },
      "source": [
        "### Create a small dataset"
      ]
    },
    {
      "cell_type": "code",
      "metadata": {
        "id": "GHjGDSlYINzF",
        "colab_type": "code",
        "colab": {}
      },
      "source": [
        "x_train_xs = x_train[:1000] #SMALL TRAIN SIZE\n",
        "y_train_xs = y_train[:1000]"
      ],
      "execution_count": 0,
      "outputs": []
    },
    {
      "cell_type": "markdown",
      "metadata": {
        "id": "apkFRw5rINzH",
        "colab_type": "text"
      },
      "source": [
        "# Define the NN using Keras"
      ]
    },
    {
      "cell_type": "code",
      "metadata": {
        "id": "evGcXP5kINzI",
        "colab_type": "code",
        "colab": {}
      },
      "source": [
        "#units: number of neurons in the layer\n",
        "#input_dim: width*height*c\n",
        "\n",
        "# model_1 = Sequential([\n",
        "#     Dense(units=128, input_dim=total_inputs, activation=\"relu\", \n",
        "#           name=\"m1_hidden1\"),\n",
        "#     Dense(units=64, activation=\"relu\", name=\"m1_hidden2\"),\n",
        "#     Dense(units=16, activation=\"relu\", name=\"m1_hidden3\"),\n",
        "#     Dense(units=10, activation=\"softmax\", name=\"output\")\n",
        "# ])\n",
        "\n",
        "# #Compile model\n",
        "# model_1.compile(optimizer='adam', \n",
        "#                 loss='sparse_categorical_crossentropy', \n",
        "#                 metrics=['accuracy']) \n",
        "def create_model():\n",
        "  model = Sequential()\n",
        "  model.add(Conv2D(32, (3, 3), activation='relu', kernel_initializer='he_uniform', padding='same', input_shape=(32, 32, 3)))\n",
        "  model.add(Conv2D(32, (3, 3), activation='relu', kernel_initializer='he_uniform', padding='same'))\n",
        "  model.add(MaxPooling2D((2, 2)))\n",
        "  model.add(Dropout(0.2))\n",
        "  model.add(Conv2D(64, (3, 3), activation='relu', kernel_initializer='he_uniform', padding='same'))\n",
        "  model.add(Conv2D(64, (3, 3), activation='relu', kernel_initializer='he_uniform', padding='same'))\n",
        "  model.add(MaxPooling2D((2, 2)))\n",
        "  model.add(Dropout(0.3))\n",
        "  model.add(Conv2D(128, (3, 3), activation='relu', kernel_initializer='he_uniform', padding='same'))\n",
        "  model.add(Conv2D(128, (3, 3), activation='relu', kernel_initializer='he_uniform', padding='same'))\n",
        "  model.add(MaxPooling2D((2, 2)))\n",
        "  model.add(Dropout(0.4))\n",
        "  model.add(Flatten())\n",
        "  model.add(Dense(128, activation='relu', kernel_initializer='he_uniform'))\n",
        "  model.add(Dropout(0.5))\n",
        "  model.add(Dense(10, activation='softmax'))\n",
        "\n",
        "  # compile model\n",
        "  model.compile(optimizer='adam', loss='sparse_categorical_crossentropy', metrics=['accuracy'])\n",
        "  return model"
      ],
      "execution_count": 0,
      "outputs": []
    },
    {
      "cell_type": "code",
      "metadata": {
        "id": "5lRAbqruINzJ",
        "colab_type": "code",
        "colab": {}
      },
      "source": [
        "model_2 = Sequential()\n",
        "model_2.add(layers.Conv2D(32, (3, 3), activation='relu', input_shape=(32, 32, 3)))\n",
        "model_2.add(layers.MaxPooling2D((2, 2)))\n",
        "model_2.add(layers.Conv2D(64, (3, 3), activation='relu'))\n",
        "model_2.add(layers.MaxPooling2D((2, 2)))\n",
        "model_2.add(layers.Conv2D(64, (3, 3), activation='relu'))\n",
        "model_2.add(layers.Flatten())\n",
        "model_2.add(layers.Dense(64, activation='relu'))\n",
        "model_2.add(layers.Dense(10, activation='softmax'))\n",
        "\n",
        "model_2.compile(optimizer='adam', \n",
        "                loss='sparse_categorical_crossentropy', \n",
        "                metrics=['accuracy']) \n"
      ],
      "execution_count": 0,
      "outputs": []
    },
    {
      "cell_type": "code",
      "metadata": {
        "id": "ABWOs4lLINzK",
        "colab_type": "code",
        "colab": {}
      },
      "source": [
        "#Cross Entropy Loss\n",
        "#provides a probability value between 0 and 1 as an output\n",
        "\n",
        "#Gradient Descent\n",
        "#move down to lost function to minimize loss\n",
        "\n",
        "#Optimiser\n",
        "#an algorithm that calculates the loss and adjusts the weights\n",
        "\n",
        "#ADAM Optimiser\n",
        "\n",
        "#bias: shift the entire curve"
      ],
      "execution_count": 0,
      "outputs": []
    },
    {
      "cell_type": "code",
      "metadata": {
        "id": "ja6PviIwkT8y",
        "colab_type": "code",
        "colab": {}
      },
      "source": [
        "model = create_model()"
      ],
      "execution_count": 0,
      "outputs": []
    },
    {
      "cell_type": "code",
      "metadata": {
        "id": "E96dtNgpINzN",
        "colab_type": "code",
        "outputId": "de9be3b4-b007-4c00-fd9d-ba18c491d03a",
        "colab": {
          "base_uri": "https://localhost:8080/",
          "height": 697
        }
      },
      "source": [
        "model.summary()"
      ],
      "execution_count": 0,
      "outputs": [
        {
          "output_type": "stream",
          "text": [
            "Model: \"sequential_1\"\n",
            "_________________________________________________________________\n",
            "Layer (type)                 Output Shape              Param #   \n",
            "=================================================================\n",
            "conv2d_3 (Conv2D)            (None, 32, 32, 32)        896       \n",
            "_________________________________________________________________\n",
            "conv2d_4 (Conv2D)            (None, 32, 32, 32)        9248      \n",
            "_________________________________________________________________\n",
            "max_pooling2d_2 (MaxPooling2 (None, 16, 16, 32)        0         \n",
            "_________________________________________________________________\n",
            "dropout (Dropout)            (None, 16, 16, 32)        0         \n",
            "_________________________________________________________________\n",
            "conv2d_5 (Conv2D)            (None, 16, 16, 64)        18496     \n",
            "_________________________________________________________________\n",
            "conv2d_6 (Conv2D)            (None, 16, 16, 64)        36928     \n",
            "_________________________________________________________________\n",
            "max_pooling2d_3 (MaxPooling2 (None, 8, 8, 64)          0         \n",
            "_________________________________________________________________\n",
            "dropout_1 (Dropout)          (None, 8, 8, 64)          0         \n",
            "_________________________________________________________________\n",
            "conv2d_7 (Conv2D)            (None, 8, 8, 128)         73856     \n",
            "_________________________________________________________________\n",
            "conv2d_8 (Conv2D)            (None, 8, 8, 128)         147584    \n",
            "_________________________________________________________________\n",
            "max_pooling2d_4 (MaxPooling2 (None, 4, 4, 128)         0         \n",
            "_________________________________________________________________\n",
            "dropout_2 (Dropout)          (None, 4, 4, 128)         0         \n",
            "_________________________________________________________________\n",
            "flatten_1 (Flatten)          (None, 2048)              0         \n",
            "_________________________________________________________________\n",
            "dense_2 (Dense)              (None, 128)               262272    \n",
            "_________________________________________________________________\n",
            "dropout_3 (Dropout)          (None, 128)               0         \n",
            "_________________________________________________________________\n",
            "dense_3 (Dense)              (None, 10)                1290      \n",
            "=================================================================\n",
            "Total params: 550,570\n",
            "Trainable params: 550,570\n",
            "Non-trainable params: 0\n",
            "_________________________________________________________________\n"
          ],
          "name": "stdout"
        }
      ]
    },
    {
      "cell_type": "markdown",
      "metadata": {
        "id": "JDVLgfX1INzQ",
        "colab_type": "text"
      },
      "source": [
        "# Tensorboard (visualising learning)"
      ]
    },
    {
      "cell_type": "code",
      "metadata": {
        "id": "KXnldajPINzQ",
        "colab_type": "code",
        "colab": {}
      },
      "source": [
        "def get_tensorboard1(model_name):\n",
        "\n",
        "    folder_name = f'{model_name} at {strftime(\"%H %M\")}'\n",
        "    print(folder_name)\n",
        "    dir_paths = os.path.join(LOG_DIR, folder_name)\n",
        "\n",
        "    try:\n",
        "        os.makedirs(dir_paths)\n",
        "    except OSError as err:\n",
        "        print(err.strerror)\n",
        "    else:\n",
        "        print(\"Successfully created directory\")\n",
        "\n",
        "    return TensorBoard(log_dir=dir_paths)\n",
        "\n",
        "# #COLAB\n",
        "# !pip install tensorboardcolab\n",
        "# from tensorboardcolab import TensorBoardColab, TensorBoardColabCallback\n",
        "\n",
        "logdir = os.path.join(\"logs\", datetime.datetime.now().strftime(\"%Y%m%d-%H%M%S\"))\n",
        "tensorboard_callback = tf.keras.callbacks.TensorBoard(logdir, histogram_freq=1)\n",
        "\n",
        "#Save and Load Data\n",
        "checkpoint_path = \"training_1/cp.ckpt\"\n",
        "checkpoint_dir = os.path.dirname(checkpoint_path)\n",
        "\n",
        "# Create a callback that saves the model's weights\n",
        "cp_callback = tf.keras.callbacks.ModelCheckpoint(filepath=checkpoint_path,\n",
        "                                                 save_weights_only=True,\n",
        "                                                 verbose=1)\n",
        "\n"
      ],
      "execution_count": 0,
      "outputs": []
    },
    {
      "cell_type": "markdown",
      "metadata": {
        "id": "x92WT8ccINzR",
        "colab_type": "text"
      },
      "source": [
        "# Fit Model"
      ]
    },
    {
      "cell_type": "code",
      "metadata": {
        "id": "VCem44TGINzT",
        "colab_type": "code",
        "colab": {}
      },
      "source": [
        "#problem: overfitting\n",
        "#solution:regularisation\n",
        "#early stopping (keras callbacks earlystopping)\n",
        "#Dropout "
      ],
      "execution_count": 0,
      "outputs": []
    },
    {
      "cell_type": "code",
      "metadata": {
        "id": "Q7YzyIr2INzV",
        "colab_type": "code",
        "colab": {}
      },
      "source": [
        "samples_per_batch = 256"
      ],
      "execution_count": 0,
      "outputs": []
    },
    {
      "cell_type": "code",
      "metadata": {
        "scrolled": false,
        "id": "6dDVE9phINzW",
        "colab_type": "code",
        "colab": {}
      },
      "source": [
        "%%time\n",
        "nr_epochs = 75\n",
        "model.fit(x_train_xs, y_train_xs, batch_size=samples_per_batch,\n",
        "            epochs=nr_epochs, verbose=0, validation_data = (x_val, y_val), callbacks=[tensorboard_callback])"
      ],
      "execution_count": 0,
      "outputs": []
    },
    {
      "cell_type": "code",
      "metadata": {
        "id": "dgYfP7Q4INzY",
        "colab_type": "code",
        "outputId": "1bf5ec86-4017-4049-8c9e-5277fb591285",
        "colab": {
          "base_uri": "https://localhost:8080/",
          "height": 1000
        }
      },
      "source": [
        "%%time\n",
        "nr_epochs = 30\n",
        "model.fit(x_train, y_train, batch_size=samples_per_batch,\n",
        "            epochs=nr_epochs, verbose=1, validation_data = (x_val, y_val), callbacks=[tensorboard_callback, cp_callback])"
      ],
      "execution_count": 0,
      "outputs": [
        {
          "output_type": "stream",
          "text": [
            "Train on 40000 samples, validate on 10000 samples\n",
            "Epoch 1/30\n",
            "39936/40000 [============================>.] - ETA: 0s - loss: 2.0767 - accuracy: 0.2144\n",
            "Epoch 00001: saving model to training_1/cp.ckpt\n",
            "40000/40000 [==============================] - 4s 103us/sample - loss: 2.0763 - accuracy: 0.2146 - val_loss: 1.6910 - val_accuracy: 0.3794\n",
            "Epoch 2/30\n",
            "39936/40000 [============================>.] - ETA: 0s - loss: 1.6766 - accuracy: 0.3768\n",
            "Epoch 00002: saving model to training_1/cp.ckpt\n",
            "40000/40000 [==============================] - 3s 78us/sample - loss: 1.6764 - accuracy: 0.3769 - val_loss: 1.4265 - val_accuracy: 0.4717\n",
            "Epoch 3/30\n",
            "39680/40000 [============================>.] - ETA: 0s - loss: 1.4695 - accuracy: 0.4616\n",
            "Epoch 00003: saving model to training_1/cp.ckpt\n",
            "40000/40000 [==============================] - 3s 78us/sample - loss: 1.4692 - accuracy: 0.4618 - val_loss: 1.2387 - val_accuracy: 0.5448\n",
            "Epoch 4/30\n",
            "39680/40000 [============================>.] - ETA: 0s - loss: 1.3331 - accuracy: 0.5219\n",
            "Epoch 00004: saving model to training_1/cp.ckpt\n",
            "40000/40000 [==============================] - 3s 79us/sample - loss: 1.3325 - accuracy: 0.5221 - val_loss: 1.1461 - val_accuracy: 0.5839\n",
            "Epoch 5/30\n",
            "39680/40000 [============================>.] - ETA: 0s - loss: 1.2272 - accuracy: 0.5644\n",
            "Epoch 00005: saving model to training_1/cp.ckpt\n",
            "40000/40000 [==============================] - 3s 78us/sample - loss: 1.2269 - accuracy: 0.5645 - val_loss: 1.0127 - val_accuracy: 0.6320\n",
            "Epoch 6/30\n",
            "39424/40000 [============================>.] - ETA: 0s - loss: 1.1178 - accuracy: 0.6088\n",
            "Epoch 00006: saving model to training_1/cp.ckpt\n",
            "40000/40000 [==============================] - 3s 78us/sample - loss: 1.1158 - accuracy: 0.6095 - val_loss: 0.9298 - val_accuracy: 0.6658\n",
            "Epoch 7/30\n",
            "39680/40000 [============================>.] - ETA: 0s - loss: 1.0423 - accuracy: 0.6333\n",
            "Epoch 00007: saving model to training_1/cp.ckpt\n",
            "40000/40000 [==============================] - 3s 78us/sample - loss: 1.0427 - accuracy: 0.6331 - val_loss: 0.9118 - val_accuracy: 0.6710\n",
            "Epoch 8/30\n",
            "39936/40000 [============================>.] - ETA: 0s - loss: 0.9686 - accuracy: 0.6669\n",
            "Epoch 00008: saving model to training_1/cp.ckpt\n",
            "40000/40000 [==============================] - 3s 79us/sample - loss: 0.9686 - accuracy: 0.6668 - val_loss: 0.8553 - val_accuracy: 0.6967\n",
            "Epoch 9/30\n",
            "39680/40000 [============================>.] - ETA: 0s - loss: 0.9199 - accuracy: 0.6786\n",
            "Epoch 00009: saving model to training_1/cp.ckpt\n",
            "40000/40000 [==============================] - 3s 78us/sample - loss: 0.9197 - accuracy: 0.6787 - val_loss: 0.8161 - val_accuracy: 0.7133\n",
            "Epoch 10/30\n",
            "39680/40000 [============================>.] - ETA: 0s - loss: 0.8588 - accuracy: 0.7030\n",
            "Epoch 00010: saving model to training_1/cp.ckpt\n",
            "40000/40000 [==============================] - 3s 78us/sample - loss: 0.8591 - accuracy: 0.7030 - val_loss: 0.7763 - val_accuracy: 0.7241\n",
            "Epoch 11/30\n",
            "39680/40000 [============================>.] - ETA: 0s - loss: 0.8212 - accuracy: 0.7138\n",
            "Epoch 00011: saving model to training_1/cp.ckpt\n",
            "40000/40000 [==============================] - 3s 77us/sample - loss: 0.8210 - accuracy: 0.7139 - val_loss: 0.7122 - val_accuracy: 0.7468\n",
            "Epoch 12/30\n",
            "39936/40000 [============================>.] - ETA: 0s - loss: 0.7815 - accuracy: 0.7296\n",
            "Epoch 00012: saving model to training_1/cp.ckpt\n",
            "40000/40000 [==============================] - 3s 78us/sample - loss: 0.7814 - accuracy: 0.7297 - val_loss: 0.7016 - val_accuracy: 0.7555\n",
            "Epoch 13/30\n",
            "39424/40000 [============================>.] - ETA: 0s - loss: 0.7570 - accuracy: 0.7393\n",
            "Epoch 00013: saving model to training_1/cp.ckpt\n",
            "40000/40000 [==============================] - 3s 78us/sample - loss: 0.7568 - accuracy: 0.7393 - val_loss: 0.6893 - val_accuracy: 0.7586\n",
            "Epoch 14/30\n",
            "39936/40000 [============================>.] - ETA: 0s - loss: 0.7301 - accuracy: 0.7486\n",
            "Epoch 00014: saving model to training_1/cp.ckpt\n",
            "40000/40000 [==============================] - 3s 78us/sample - loss: 0.7302 - accuracy: 0.7485 - val_loss: 0.6903 - val_accuracy: 0.7610\n",
            "Epoch 15/30\n",
            "39424/40000 [============================>.] - ETA: 0s - loss: 0.6926 - accuracy: 0.7605\n",
            "Epoch 00015: saving model to training_1/cp.ckpt\n",
            "40000/40000 [==============================] - 3s 78us/sample - loss: 0.6917 - accuracy: 0.7610 - val_loss: 0.6490 - val_accuracy: 0.7715\n",
            "Epoch 16/30\n",
            "39424/40000 [============================>.] - ETA: 0s - loss: 0.6784 - accuracy: 0.7665\n",
            "Epoch 00016: saving model to training_1/cp.ckpt\n",
            "40000/40000 [==============================] - 3s 78us/sample - loss: 0.6777 - accuracy: 0.7666 - val_loss: 0.6133 - val_accuracy: 0.7889\n",
            "Epoch 17/30\n",
            "39680/40000 [============================>.] - ETA: 0s - loss: 0.6541 - accuracy: 0.7746\n",
            "Epoch 00017: saving model to training_1/cp.ckpt\n",
            "40000/40000 [==============================] - 3s 77us/sample - loss: 0.6550 - accuracy: 0.7745 - val_loss: 0.6316 - val_accuracy: 0.7851\n",
            "Epoch 18/30\n",
            "39680/40000 [============================>.] - ETA: 0s - loss: 0.6379 - accuracy: 0.7782\n",
            "Epoch 00018: saving model to training_1/cp.ckpt\n",
            "40000/40000 [==============================] - 3s 78us/sample - loss: 0.6380 - accuracy: 0.7781 - val_loss: 0.6074 - val_accuracy: 0.7861\n",
            "Epoch 19/30\n",
            "39424/40000 [============================>.] - ETA: 0s - loss: 0.6079 - accuracy: 0.7929\n",
            "Epoch 00019: saving model to training_1/cp.ckpt\n",
            "40000/40000 [==============================] - 3s 78us/sample - loss: 0.6093 - accuracy: 0.7928 - val_loss: 0.6370 - val_accuracy: 0.7830\n",
            "Epoch 20/30\n",
            "39936/40000 [============================>.] - ETA: 0s - loss: 0.5994 - accuracy: 0.7917\n",
            "Epoch 00020: saving model to training_1/cp.ckpt\n",
            "40000/40000 [==============================] - 3s 78us/sample - loss: 0.5992 - accuracy: 0.7918 - val_loss: 0.6006 - val_accuracy: 0.7953\n",
            "Epoch 21/30\n",
            "39680/40000 [============================>.] - ETA: 0s - loss: 0.5793 - accuracy: 0.8005\n",
            "Epoch 00021: saving model to training_1/cp.ckpt\n",
            "40000/40000 [==============================] - 3s 79us/sample - loss: 0.5794 - accuracy: 0.8005 - val_loss: 0.5915 - val_accuracy: 0.7932\n",
            "Epoch 22/30\n",
            "39936/40000 [============================>.] - ETA: 0s - loss: 0.5655 - accuracy: 0.8050\n",
            "Epoch 00022: saving model to training_1/cp.ckpt\n",
            "40000/40000 [==============================] - 3s 78us/sample - loss: 0.5655 - accuracy: 0.8051 - val_loss: 0.5974 - val_accuracy: 0.7990\n",
            "Epoch 23/30\n",
            "39680/40000 [============================>.] - ETA: 0s - loss: 0.5516 - accuracy: 0.8079\n",
            "Epoch 00023: saving model to training_1/cp.ckpt\n",
            "40000/40000 [==============================] - 3s 77us/sample - loss: 0.5513 - accuracy: 0.8079 - val_loss: 0.6334 - val_accuracy: 0.7865\n",
            "Epoch 24/30\n",
            "39680/40000 [============================>.] - ETA: 0s - loss: 0.5383 - accuracy: 0.8143\n",
            "Epoch 00024: saving model to training_1/cp.ckpt\n",
            "40000/40000 [==============================] - 3s 78us/sample - loss: 0.5385 - accuracy: 0.8141 - val_loss: 0.6063 - val_accuracy: 0.8003\n",
            "Epoch 25/30\n",
            "39936/40000 [============================>.] - ETA: 0s - loss: 0.5297 - accuracy: 0.8159\n",
            "Epoch 00025: saving model to training_1/cp.ckpt\n",
            "40000/40000 [==============================] - 3s 78us/sample - loss: 0.5296 - accuracy: 0.8160 - val_loss: 0.5856 - val_accuracy: 0.8033\n",
            "Epoch 26/30\n",
            "39936/40000 [============================>.] - ETA: 0s - loss: 0.5101 - accuracy: 0.8228\n",
            "Epoch 00026: saving model to training_1/cp.ckpt\n",
            "40000/40000 [==============================] - 3s 78us/sample - loss: 0.5102 - accuracy: 0.8227 - val_loss: 0.5641 - val_accuracy: 0.8138\n",
            "Epoch 27/30\n",
            "39936/40000 [============================>.] - ETA: 0s - loss: 0.5033 - accuracy: 0.8237\n",
            "Epoch 00027: saving model to training_1/cp.ckpt\n",
            "40000/40000 [==============================] - 3s 78us/sample - loss: 0.5034 - accuracy: 0.8238 - val_loss: 0.5811 - val_accuracy: 0.8088\n",
            "Epoch 28/30\n",
            "39680/40000 [============================>.] - ETA: 0s - loss: 0.5032 - accuracy: 0.8245\n",
            "Epoch 00028: saving model to training_1/cp.ckpt\n",
            "40000/40000 [==============================] - 3s 78us/sample - loss: 0.5040 - accuracy: 0.8242 - val_loss: 0.5739 - val_accuracy: 0.8085\n",
            "Epoch 29/30\n",
            "39424/40000 [============================>.] - ETA: 0s - loss: 0.4856 - accuracy: 0.8289\n",
            "Epoch 00029: saving model to training_1/cp.ckpt\n",
            "40000/40000 [==============================] - 3s 78us/sample - loss: 0.4852 - accuracy: 0.8290 - val_loss: 0.6128 - val_accuracy: 0.7997\n",
            "Epoch 30/30\n",
            "39424/40000 [============================>.] - ETA: 0s - loss: 0.4724 - accuracy: 0.8367\n",
            "Epoch 00030: saving model to training_1/cp.ckpt\n",
            "40000/40000 [==============================] - 3s 79us/sample - loss: 0.4730 - accuracy: 0.8365 - val_loss: 0.5529 - val_accuracy: 0.8143\n",
            "CPU times: user 1min 12s, sys: 15.3 s, total: 1min 27s\n",
            "Wall time: 1min 35s\n"
          ],
          "name": "stdout"
        }
      ]
    },
    {
      "cell_type": "code",
      "metadata": {
        "id": "W_aHSgPLAMkO",
        "colab_type": "code",
        "outputId": "b7d0a787-68fd-4810-c676-95b6d55733fc",
        "colab": {
          "base_uri": "https://localhost:8080/",
          "height": 51
        }
      },
      "source": [
        "!ls {checkpoint_dir}\n"
      ],
      "execution_count": 0,
      "outputs": [
        {
          "output_type": "stream",
          "text": [
            "checkpoint\t\t     cp.ckpt.data-00001-of-00002\n",
            "cp.ckpt.data-00000-of-00002  cp.ckpt.index\n"
          ],
          "name": "stdout"
        }
      ]
    },
    {
      "cell_type": "code",
      "metadata": {
        "id": "6-hY8ihctnOG",
        "colab_type": "code",
        "colab": {}
      },
      "source": [
        "model.save('my_model.h5') "
      ],
      "execution_count": 0,
      "outputs": []
    },
    {
      "cell_type": "code",
      "metadata": {
        "id": "obOxZvhi4BGi",
        "colab_type": "code",
        "outputId": "82851fc4-3f27-4640-bbf9-a8bd602cb0cb",
        "colab": {
          "base_uri": "https://localhost:8080/",
          "height": 51
        }
      },
      "source": [
        "\n",
        "new_model = tf.keras.models.load_model('my_model.h5')\n",
        "loss, acc = new_model.evaluate(x_val, y_val, verbose=2)\n",
        "print(\"Restored model, accuracy: {:5.2f}%\".format(100*acc))"
      ],
      "execution_count": 10,
      "outputs": [
        {
          "output_type": "stream",
          "text": [
            "10000/10000 - 4s - loss: 0.5529 - accuracy: 0.8143\n",
            "Restored model, accuracy: 81.43%\n"
          ],
          "name": "stdout"
        }
      ]
    },
    {
      "cell_type": "code",
      "metadata": {
        "id": "PExB5b3QINza",
        "colab_type": "code",
        "colab": {}
      },
      "source": [
        "%%time\n",
        "nr_epochs = 25\n",
        "model_2.fit(x_train, y_train, batch_size=256,\n",
        "            epochs=nr_epochs, verbose=0, validation_data = (x_val, y_val), callbacks=[tensorboard_callback2])"
      ],
      "execution_count": 0,
      "outputs": []
    },
    {
      "cell_type": "code",
      "metadata": {
        "id": "tnvmmRKS8TZ8",
        "colab_type": "code",
        "colab": {}
      },
      "source": [
        "#%load_ext tensorboard\n",
        "#%tensorboard --logdir logs\n"
      ],
      "execution_count": 0,
      "outputs": []
    },
    {
      "cell_type": "markdown",
      "metadata": {
        "id": "uATy1VH_INzb",
        "colab_type": "text"
      },
      "source": [
        "# Predictions on Individual Images"
      ]
    },
    {
      "cell_type": "code",
      "metadata": {
        "id": "1s3eusdPINzd",
        "colab_type": "code",
        "colab": {}
      },
      "source": [
        "test = np.expand_dims(x_val[0], axis=0)\n",
        "test.shape\n",
        "np.set_printoptions(precision=3)"
      ],
      "execution_count": 0,
      "outputs": []
    },
    {
      "cell_type": "code",
      "metadata": {
        "id": "pIHvZsvLINzf",
        "colab_type": "code",
        "colab": {}
      },
      "source": [
        "model.predict(test)"
      ],
      "execution_count": 0,
      "outputs": []
    },
    {
      "cell_type": "code",
      "metadata": {
        "id": "3acMl6RoINzh",
        "colab_type": "code",
        "colab": {}
      },
      "source": [
        "for number in range(10):\n",
        "    test_img = np.expand_dims(x_val[number], axis=0)\n",
        "    predicted_val = model.predict_classes(test_img)[0]\n",
        "    print(f\"Actual value: {y_val[number][0]} vs. predicted: {predicted_val}\")\n"
      ],
      "execution_count": 0,
      "outputs": []
    },
    {
      "cell_type": "code",
      "metadata": {
        "id": "sQwY_Et0INzi",
        "colab_type": "code",
        "colab": {}
      },
      "source": [
        "for number in range(10):\n",
        "    test_img = np.expand_dims(x_val[number], axis=0)\n",
        "    predicted_val = model.predict_classes(test_img)[0]\n",
        "    print(f\"Actual value: {label_names[y_val[number][0]]} vs. predicted: {label_names[predicted_val]}\")\n"
      ],
      "execution_count": 0,
      "outputs": []
    },
    {
      "cell_type": "markdown",
      "metadata": {
        "id": "aj5sBPDKINzj",
        "colab_type": "text"
      },
      "source": [
        "# Evaluation"
      ]
    },
    {
      "cell_type": "code",
      "metadata": {
        "id": "dBJkYpcoINzj",
        "colab_type": "code",
        "colab": {}
      },
      "source": [
        "model_2.metrics_names"
      ],
      "execution_count": 0,
      "outputs": []
    },
    {
      "cell_type": "code",
      "metadata": {
        "id": "zIzF_787INzl",
        "colab_type": "code",
        "colab": {}
      },
      "source": [
        "test_loss, test_acc = model.evaluate(x_test, y_test)\n",
        "print(f\"Test loss : {test_loss:0.3}, Test Accuracy: {test_acc:0.2%}\")"
      ],
      "execution_count": 0,
      "outputs": []
    },
    {
      "cell_type": "markdown",
      "metadata": {
        "id": "xPRYoF2xINzm",
        "colab_type": "text"
      },
      "source": [
        "### Confusion Matrix"
      ]
    },
    {
      "cell_type": "code",
      "metadata": {
        "id": "EpxOE4VZINzm",
        "colab_type": "code",
        "colab": {}
      },
      "source": [
        "!pip install numpy scipy sklearn\n",
        "from sklearn.metrics import confusion_matrix"
      ],
      "execution_count": 0,
      "outputs": []
    },
    {
      "cell_type": "code",
      "metadata": {
        "id": "yAHZkGFoINzn",
        "colab_type": "code",
        "colab": {}
      },
      "source": [
        "predictions = model.predict_classes(x_test)\n",
        "conf_matrix = confusion_matrix(y_true=y_test, y_pred=predictions )"
      ],
      "execution_count": 0,
      "outputs": []
    },
    {
      "cell_type": "code",
      "metadata": {
        "id": "OFXz1Dx5INzp",
        "colab_type": "code",
        "colab": {}
      },
      "source": [
        "#itertools\n",
        "import itertools"
      ],
      "execution_count": 0,
      "outputs": []
    },
    {
      "cell_type": "code",
      "metadata": {
        "id": "hEZWSFp1INzq",
        "colab_type": "code",
        "colab": {}
      },
      "source": [
        "plt.figure(figsize=(7,7))\n",
        "plt.imshow(conf_matrix, cmap=plt.cm.Reds)\n",
        "plt.title(\"Confusion Matrix\", fontsize=18)\n",
        "plt.ylabel(\"Actual Labels\", fontsize=14)\n",
        "plt.xlabel(\"Predicted labels\", fontsize=14)\n",
        "plt.yticks(np.arange(10), label_names)\n",
        "plt.xticks(np.arange(10), label_names)\n",
        "\n",
        "plt.colorbar()\n",
        "for i, j in itertools.product(range(10), range(10)):\n",
        "    plt.text(j, i, conf_matrix[i,j], horizontalalignment='center', color=\"white\" if conf_matrix[i,j]> 350 else 'black')\n",
        "\n",
        "plt.show()"
      ],
      "execution_count": 0,
      "outputs": []
    },
    {
      "cell_type": "code",
      "metadata": {
        "id": "gsFH2TcoINzr",
        "colab_type": "code",
        "colab": {}
      },
      "source": [
        "from sklearn.metrics import accuracy_score, precision_score, recall_score, f1_score\n",
        "print(\"Doğruluk (accuracy)  :{:.2f}\".format(accuracy_score(y_test, predictions)))\n",
        "print(\"Keskinlik (precision) :{:.2f}\".format(precision_score(y_test, predictions, average='weighted')))\n",
        "print(\"Duyarlılık (recall) :{:.2f}\".format(recall_score(y_test, predictions, average='weighted')))\n",
        "print(\"f_1 skoru (f1) :{:.2f}\".format(f1_score(y_test, predictions, average='weighted')))"
      ],
      "execution_count": 0,
      "outputs": []
    },
    {
      "cell_type": "code",
      "metadata": {
        "id": "dZeRINxJINzs",
        "colab_type": "code",
        "colab": {}
      },
      "source": [
        ""
      ],
      "execution_count": 0,
      "outputs": []
    }
  ]
}
